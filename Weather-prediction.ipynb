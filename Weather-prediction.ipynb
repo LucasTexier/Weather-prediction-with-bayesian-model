{
 "cells": [
  {
   "cell_type": "markdown",
   "metadata": {},
   "source": [
    "# WEATHER PREDICTION USING BAYESIAN MODEL"
   ]
  },
  {
   "cell_type": "markdown",
   "metadata": {},
   "source": [
    "### Step 1 : Imports & read the dataset"
   ]
  },
  {
   "cell_type": "code",
   "execution_count": 1,
   "metadata": {},
   "outputs": [],
   "source": [
    "# Imports\n",
    "import pandas as pd\n",
    "import seaborn as sns\n",
    "import matplotlib.pyplot as plt"
   ]
  },
  {
   "cell_type": "code",
   "execution_count": 2,
   "metadata": {},
   "outputs": [
    {
     "name": "stdout",
     "output_type": "stream",
     "text": [
      "(96453, 12) Index(['Formatted Date', 'Summary', 'Precip Type', 'Temperature (C)',\n",
      "       'Apparent Temperature (C)', 'Humidity', 'Wind Speed (km/h)',\n",
      "       'Wind Bearing (degrees)', 'Visibility (km)', 'Loud Cover',\n",
      "       'Pressure (millibars)', 'Daily Summary'],\n",
      "      dtype='object')\n"
     ]
    }
   ],
   "source": [
    "#Open and observe the shape/columns\n",
    "df = pd.read_csv(\"weatherHistory.csv\")\n",
    "print(df.shape, df.columns)"
   ]
  },
  {
   "cell_type": "markdown",
   "metadata": {},
   "source": [
    "### Step 2 : analyse and sort the database"
   ]
  },
  {
   "cell_type": "code",
   "execution_count": 3,
   "metadata": {},
   "outputs": [
    {
     "data": {
      "text/plain": [
       "array([0.])"
      ]
     },
     "execution_count": 3,
     "metadata": {},
     "output_type": "execute_result"
    }
   ],
   "source": [
    "# Analysing unless columns\n",
    "df['Loud Cover'].unique()"
   ]
  },
  {
   "cell_type": "markdown",
   "metadata": {},
   "source": [
    "* In the column named Loud Cover, the values are all 0 : this column is removed"
   ]
  },
  {
   "cell_type": "code",
   "execution_count": 4,
   "metadata": {},
   "outputs": [],
   "source": [
    "df.drop(['Loud Cover'], axis = 1, inplace= True)"
   ]
  },
  {
   "cell_type": "markdown",
   "metadata": {},
   "source": [
    "* In the column Daily Summary, there is 214 values differents & its are complexes sentences : we also drop it"
   ]
  },
  {
   "cell_type": "code",
   "execution_count": 5,
   "metadata": {},
   "outputs": [
    {
     "name": "stdout",
     "output_type": "stream",
     "text": [
      "214 ['Partly cloudy throughout the day.' 'Mostly cloudy throughout the day.'\n",
      " 'Foggy in the evening.' 'Foggy overnight and breezy in the morning.'\n",
      " 'Overcast throughout the day.']\n"
     ]
    }
   ],
   "source": [
    "print(len(df['Daily Summary'].unique()), df['Daily Summary'].unique()[0:5])\n",
    "df.drop(['Daily Summary'], axis = 1, inplace=True)"
   ]
  },
  {
   "cell_type": "code",
   "execution_count": 6,
   "metadata": {},
   "outputs": [
    {
     "data": {
      "text/plain": [
       "Formatted Date              0.000000\n",
       "Summary                     0.000000\n",
       "Precip Type                 0.536012\n",
       "Temperature (C)             0.000000\n",
       "Apparent Temperature (C)    0.000000\n",
       "Humidity                    0.000000\n",
       "Wind Speed (km/h)           0.000000\n",
       "Wind Bearing (degrees)      0.000000\n",
       "Visibility (km)             0.000000\n",
       "Pressure (millibars)        0.000000\n",
       "dtype: float64"
      ]
     },
     "execution_count": 6,
     "metadata": {},
     "output_type": "execute_result"
    }
   ],
   "source": [
    "# Observe the lack of values in columns\n",
    "(len(df)-df.count())*100/len(df)"
   ]
  },
  {
   "cell_type": "markdown",
   "metadata": {},
   "source": [
    " * Precip Type has 0.53% of NA values, we drop the lines without value in this column"
   ]
  },
  {
   "cell_type": "code",
   "execution_count": 7,
   "metadata": {},
   "outputs": [],
   "source": [
    "df.dropna(inplace=True)"
   ]
  },
  {
   "cell_type": "code",
   "execution_count": 8,
   "metadata": {},
   "outputs": [
    {
     "name": "stdout",
     "output_type": "stream",
     "text": [
      "Index(['Formatted Date', 'Summary', 'Precip Type'], dtype='object')\n"
     ]
    }
   ],
   "source": [
    "# to study correlation, object columns need to be encoded\n",
    "print(df.select_dtypes(include=['object']).columns)"
   ]
  },
  {
   "cell_type": "code",
   "execution_count": 9,
   "metadata": {},
   "outputs": [],
   "source": [
    "X_corr = pd.get_dummies(df, columns = ['Precip Type'])"
   ]
  },
  {
   "cell_type": "code",
   "execution_count": 10,
   "metadata": {},
   "outputs": [
    {
     "data": {
      "text/html": [
       "<div>\n",
       "<style scoped>\n",
       "    .dataframe tbody tr th:only-of-type {\n",
       "        vertical-align: middle;\n",
       "    }\n",
       "\n",
       "    .dataframe tbody tr th {\n",
       "        vertical-align: top;\n",
       "    }\n",
       "\n",
       "    .dataframe thead th {\n",
       "        text-align: right;\n",
       "    }\n",
       "</style>\n",
       "<table border=\"1\" class=\"dataframe\">\n",
       "  <thead>\n",
       "    <tr style=\"text-align: right;\">\n",
       "      <th></th>\n",
       "      <th>Temperature (C)</th>\n",
       "      <th>Apparent Temperature (C)</th>\n",
       "      <th>Humidity</th>\n",
       "      <th>Wind Speed (km/h)</th>\n",
       "      <th>Wind Bearing (degrees)</th>\n",
       "      <th>Visibility (km)</th>\n",
       "      <th>Pressure (millibars)</th>\n",
       "      <th>Precip Type_rain</th>\n",
       "      <th>Precip Type_snow</th>\n",
       "    </tr>\n",
       "  </thead>\n",
       "  <tbody>\n",
       "    <tr>\n",
       "      <th>0</th>\n",
       "      <td>9.472222</td>\n",
       "      <td>7.388889</td>\n",
       "      <td>0.89</td>\n",
       "      <td>14.1197</td>\n",
       "      <td>251.0</td>\n",
       "      <td>15.8263</td>\n",
       "      <td>1015.13</td>\n",
       "      <td>True</td>\n",
       "      <td>False</td>\n",
       "    </tr>\n",
       "    <tr>\n",
       "      <th>1</th>\n",
       "      <td>9.355556</td>\n",
       "      <td>7.227778</td>\n",
       "      <td>0.86</td>\n",
       "      <td>14.2646</td>\n",
       "      <td>259.0</td>\n",
       "      <td>15.8263</td>\n",
       "      <td>1015.63</td>\n",
       "      <td>True</td>\n",
       "      <td>False</td>\n",
       "    </tr>\n",
       "    <tr>\n",
       "      <th>2</th>\n",
       "      <td>9.377778</td>\n",
       "      <td>9.377778</td>\n",
       "      <td>0.89</td>\n",
       "      <td>3.9284</td>\n",
       "      <td>204.0</td>\n",
       "      <td>14.9569</td>\n",
       "      <td>1015.94</td>\n",
       "      <td>True</td>\n",
       "      <td>False</td>\n",
       "    </tr>\n",
       "    <tr>\n",
       "      <th>3</th>\n",
       "      <td>8.288889</td>\n",
       "      <td>5.944444</td>\n",
       "      <td>0.83</td>\n",
       "      <td>14.1036</td>\n",
       "      <td>269.0</td>\n",
       "      <td>15.8263</td>\n",
       "      <td>1016.41</td>\n",
       "      <td>True</td>\n",
       "      <td>False</td>\n",
       "    </tr>\n",
       "    <tr>\n",
       "      <th>4</th>\n",
       "      <td>8.755556</td>\n",
       "      <td>6.977778</td>\n",
       "      <td>0.83</td>\n",
       "      <td>11.0446</td>\n",
       "      <td>259.0</td>\n",
       "      <td>15.8263</td>\n",
       "      <td>1016.51</td>\n",
       "      <td>True</td>\n",
       "      <td>False</td>\n",
       "    </tr>\n",
       "  </tbody>\n",
       "</table>\n",
       "</div>"
      ],
      "text/plain": [
       "   Temperature (C)  Apparent Temperature (C)  Humidity  Wind Speed (km/h)  \\\n",
       "0         9.472222                  7.388889      0.89            14.1197   \n",
       "1         9.355556                  7.227778      0.86            14.2646   \n",
       "2         9.377778                  9.377778      0.89             3.9284   \n",
       "3         8.288889                  5.944444      0.83            14.1036   \n",
       "4         8.755556                  6.977778      0.83            11.0446   \n",
       "\n",
       "   Wind Bearing (degrees)  Visibility (km)  Pressure (millibars)  \\\n",
       "0                   251.0          15.8263               1015.13   \n",
       "1                   259.0          15.8263               1015.63   \n",
       "2                   204.0          14.9569               1015.94   \n",
       "3                   269.0          15.8263               1016.41   \n",
       "4                   259.0          15.8263               1016.51   \n",
       "\n",
       "   Precip Type_rain  Precip Type_snow  \n",
       "0              True             False  \n",
       "1              True             False  \n",
       "2              True             False  \n",
       "3              True             False  \n",
       "4              True             False  "
      ]
     },
     "execution_count": 10,
     "metadata": {},
     "output_type": "execute_result"
    }
   ],
   "source": [
    "#Formatted date will be treated after having cleaned data & Summary is removed because it is the target column\n",
    "X_corr = X_corr.drop(['Formatted Date', 'Summary'], axis = 1)\n",
    "X_corr.head()"
   ]
  },
  {
   "cell_type": "code",
   "execution_count": 11,
   "metadata": {},
   "outputs": [
    {
     "data": {
      "image/png": "[encoded data removed]",
      "text/plain": [
       "<Figure size 1400x600 with 2 Axes>"
      ]
     },
     "metadata": {},
     "output_type": "display_data"
    }
   ],
   "source": [
    "#plotting the matrix of correlation\n",
    "corr = X_corr.corr()\n",
    "plt.figure(figsize=(14,6))\n",
    "sns.heatmap(corr, cmap = 'coolwarm', annot=True)\n",
    "plt.show()"
   ]
  },
  {
   "cell_type": "markdown",
   "metadata": {},
   "source": [
    "* temperature and apparent temperature are hightly correlated : only apparent temperature is saved"
   ]
  },
  {
   "cell_type": "code",
   "execution_count": 12,
   "metadata": {},
   "outputs": [],
   "source": [
    "df.drop(['Temperature (C)'], axis = 1, inplace=True)\n",
    "\n",
    "#encoding the column Precip Type like in X_corr\n",
    "df = pd.get_dummies(df, columns = ['Precip Type'])"
   ]
  },
  {
   "cell_type": "markdown",
   "metadata": {},
   "source": [
    " * Now, the final X dataset is made"
   ]
  },
  {
   "cell_type": "markdown",
   "metadata": {},
   "source": [
    "### Step 3 : Encode the Summary column (target variable)."
   ]
  },
  {
   "cell_type": "code",
   "execution_count": 13,
   "metadata": {},
   "outputs": [
    {
     "name": "stdout",
     "output_type": "stream",
     "text": [
      "[19 17 18 12  3  6  5  4 13 15 23 25  2 26  0 11 24  7  9 21 14 16  8 22\n",
      " 10  1 20]\n",
      "                                  Class\n",
      "0                                Breezy\n",
      "1                        Breezy and Dry\n",
      "2                      Breezy and Foggy\n",
      "3              Breezy and Mostly Cloudy\n",
      "4                   Breezy and Overcast\n",
      "5              Breezy and Partly Cloudy\n",
      "6                                 Clear\n",
      "7   Dangerously Windy and Partly Cloudy\n",
      "8                               Drizzle\n",
      "9                                   Dry\n",
      "10                Dry and Mostly Cloudy\n",
      "11                Dry and Partly Cloudy\n",
      "12                                Foggy\n",
      "13              Humid and Mostly Cloudy\n",
      "14                   Humid and Overcast\n",
      "15              Humid and Partly Cloudy\n",
      "16                           Light Rain\n",
      "17                        Mostly Cloudy\n",
      "18                             Overcast\n",
      "19                        Partly Cloudy\n",
      "20                                 Rain\n",
      "21                                Windy\n",
      "22                        Windy and Dry\n",
      "23                      Windy and Foggy\n",
      "24              Windy and Mostly Cloudy\n",
      "25                   Windy and Overcast\n",
      "26              Windy and Partly Cloudy\n"
     ]
    }
   ],
   "source": [
    "from sklearn.preprocessing import LabelEncoder\n",
    "\n",
    "label_encoder = LabelEncoder()\n",
    "\n",
    "#encode the 27 classes of Summary column\n",
    "df['Summary_encode'] = label_encoder.fit_transform(df['Summary'])\n",
    "\n",
    "# create a wiki to find the name of the value before being encoded\n",
    "class_summary = pd.DataFrame({'Class': label_encoder.classes_})\n",
    "\n",
    "print(df['Summary_encode'].unique())\n",
    "print(class_summary)"
   ]
  },
  {
   "cell_type": "markdown",
   "metadata": {},
   "source": [
    "### Step 4 : Group the data in day thanks to the column Formatted Date"
   ]
  },
  {
   "cell_type": "code",
   "execution_count": 14,
   "metadata": {},
   "outputs": [
    {
     "data": {
      "text/html": [
       "<div>\n",
       "<style scoped>\n",
       "    .dataframe tbody tr th:only-of-type {\n",
       "        vertical-align: middle;\n",
       "    }\n",
       "\n",
       "    .dataframe tbody tr th {\n",
       "        vertical-align: top;\n",
       "    }\n",
       "\n",
       "    .dataframe thead th {\n",
       "        text-align: right;\n",
       "    }\n",
       "</style>\n",
       "<table border=\"1\" class=\"dataframe\">\n",
       "  <thead>\n",
       "    <tr style=\"text-align: right;\">\n",
       "      <th></th>\n",
       "      <th>Formatted Date</th>\n",
       "      <th>Summary</th>\n",
       "      <th>Apparent Temperature (C)</th>\n",
       "      <th>Humidity</th>\n",
       "      <th>Wind Speed (km/h)</th>\n",
       "      <th>Wind Bearing (degrees)</th>\n",
       "      <th>Visibility (km)</th>\n",
       "      <th>Pressure (millibars)</th>\n",
       "      <th>Precip Type_rain</th>\n",
       "      <th>Precip Type_snow</th>\n",
       "      <th>Summary_encode</th>\n",
       "    </tr>\n",
       "  </thead>\n",
       "  <tbody>\n",
       "    <tr>\n",
       "      <th>0</th>\n",
       "      <td>2006-04-01 00:00:00.000 +0200</td>\n",
       "      <td>Partly Cloudy</td>\n",
       "      <td>7.388889</td>\n",
       "      <td>0.89</td>\n",
       "      <td>14.1197</td>\n",
       "      <td>251.0</td>\n",
       "      <td>15.8263</td>\n",
       "      <td>1015.13</td>\n",
       "      <td>True</td>\n",
       "      <td>False</td>\n",
       "      <td>19</td>\n",
       "    </tr>\n",
       "    <tr>\n",
       "      <th>1</th>\n",
       "      <td>2006-04-01 01:00:00.000 +0200</td>\n",
       "      <td>Partly Cloudy</td>\n",
       "      <td>7.227778</td>\n",
       "      <td>0.86</td>\n",
       "      <td>14.2646</td>\n",
       "      <td>259.0</td>\n",
       "      <td>15.8263</td>\n",
       "      <td>1015.63</td>\n",
       "      <td>True</td>\n",
       "      <td>False</td>\n",
       "      <td>19</td>\n",
       "    </tr>\n",
       "    <tr>\n",
       "      <th>2</th>\n",
       "      <td>2006-04-01 02:00:00.000 +0200</td>\n",
       "      <td>Mostly Cloudy</td>\n",
       "      <td>9.377778</td>\n",
       "      <td>0.89</td>\n",
       "      <td>3.9284</td>\n",
       "      <td>204.0</td>\n",
       "      <td>14.9569</td>\n",
       "      <td>1015.94</td>\n",
       "      <td>True</td>\n",
       "      <td>False</td>\n",
       "      <td>17</td>\n",
       "    </tr>\n",
       "    <tr>\n",
       "      <th>3</th>\n",
       "      <td>2006-04-01 03:00:00.000 +0200</td>\n",
       "      <td>Partly Cloudy</td>\n",
       "      <td>5.944444</td>\n",
       "      <td>0.83</td>\n",
       "      <td>14.1036</td>\n",
       "      <td>269.0</td>\n",
       "      <td>15.8263</td>\n",
       "      <td>1016.41</td>\n",
       "      <td>True</td>\n",
       "      <td>False</td>\n",
       "      <td>19</td>\n",
       "    </tr>\n",
       "    <tr>\n",
       "      <th>4</th>\n",
       "      <td>2006-04-01 04:00:00.000 +0200</td>\n",
       "      <td>Mostly Cloudy</td>\n",
       "      <td>6.977778</td>\n",
       "      <td>0.83</td>\n",
       "      <td>11.0446</td>\n",
       "      <td>259.0</td>\n",
       "      <td>15.8263</td>\n",
       "      <td>1016.51</td>\n",
       "      <td>True</td>\n",
       "      <td>False</td>\n",
       "      <td>17</td>\n",
       "    </tr>\n",
       "  </tbody>\n",
       "</table>\n",
       "</div>"
      ],
      "text/plain": [
       "                  Formatted Date        Summary  Apparent Temperature (C)  \\\n",
       "0  2006-04-01 00:00:00.000 +0200  Partly Cloudy                  7.388889   \n",
       "1  2006-04-01 01:00:00.000 +0200  Partly Cloudy                  7.227778   \n",
       "2  2006-04-01 02:00:00.000 +0200  Mostly Cloudy                  9.377778   \n",
       "3  2006-04-01 03:00:00.000 +0200  Partly Cloudy                  5.944444   \n",
       "4  2006-04-01 04:00:00.000 +0200  Mostly Cloudy                  6.977778   \n",
       "\n",
       "   Humidity  Wind Speed (km/h)  Wind Bearing (degrees)  Visibility (km)  \\\n",
       "0      0.89            14.1197                   251.0          15.8263   \n",
       "1      0.86            14.2646                   259.0          15.8263   \n",
       "2      0.89             3.9284                   204.0          14.9569   \n",
       "3      0.83            14.1036                   269.0          15.8263   \n",
       "4      0.83            11.0446                   259.0          15.8263   \n",
       "\n",
       "   Pressure (millibars)  Precip Type_rain  Precip Type_snow  Summary_encode  \n",
       "0               1015.13              True             False              19  \n",
       "1               1015.63              True             False              19  \n",
       "2               1015.94              True             False              17  \n",
       "3               1016.41              True             False              19  \n",
       "4               1016.51              True             False              17  "
      ]
     },
     "execution_count": 14,
     "metadata": {},
     "output_type": "execute_result"
    }
   ],
   "source": [
    "df.head()"
   ]
  },
  {
   "cell_type": "markdown",
   "metadata": {},
   "source": [
    "* First, the lines are grouped by day"
   ]
  },
  {
   "cell_type": "code",
   "execution_count": 15,
   "metadata": {},
   "outputs": [],
   "source": [
    "df['Formatted Date'] = pd.to_datetime(df['Formatted Date'].str[:-6], format='%Y-%m-%d %H:%M:%S.%f', utc=True)\n",
    "df['Day'] = df['Formatted Date'].dt.date"
   ]
  },
  {
   "cell_type": "code",
   "execution_count": 16,
   "metadata": {},
   "outputs": [
    {
     "data": {
      "text/plain": [
       "array([datetime.date(2006, 4, 1), datetime.date(2006, 4, 10),\n",
       "       datetime.date(2006, 4, 11), ..., datetime.date(2016, 9, 7),\n",
       "       datetime.date(2016, 9, 8), datetime.date(2016, 9, 9)], dtype=object)"
      ]
     },
     "execution_count": 16,
     "metadata": {},
     "output_type": "execute_result"
    }
   ],
   "source": [
    "df['Day'].unique()"
   ]
  },
  {
   "cell_type": "code",
   "execution_count": 17,
   "metadata": {},
   "outputs": [
    {
     "data": {
      "text/html": [
       "<div>\n",
       "<style scoped>\n",
       "    .dataframe tbody tr th:only-of-type {\n",
       "        vertical-align: middle;\n",
       "    }\n",
       "\n",
       "    .dataframe tbody tr th {\n",
       "        vertical-align: top;\n",
       "    }\n",
       "\n",
       "    .dataframe thead th {\n",
       "        text-align: right;\n",
       "    }\n",
       "</style>\n",
       "<table border=\"1\" class=\"dataframe\">\n",
       "  <thead>\n",
       "    <tr style=\"text-align: right;\">\n",
       "      <th></th>\n",
       "      <th>Formatted Date</th>\n",
       "      <th>Summary</th>\n",
       "      <th>Apparent Temperature (C)</th>\n",
       "      <th>Humidity</th>\n",
       "      <th>Wind Speed (km/h)</th>\n",
       "      <th>Wind Bearing (degrees)</th>\n",
       "      <th>Visibility (km)</th>\n",
       "      <th>Pressure (millibars)</th>\n",
       "      <th>Precip Type_rain</th>\n",
       "      <th>Precip Type_snow</th>\n",
       "      <th>Summary_encode</th>\n",
       "      <th>Day</th>\n",
       "    </tr>\n",
       "  </thead>\n",
       "  <tbody>\n",
       "    <tr>\n",
       "      <th>0</th>\n",
       "      <td>2006-04-01 00:00:00+00:00</td>\n",
       "      <td>Partly Cloudy</td>\n",
       "      <td>7.388889</td>\n",
       "      <td>0.89</td>\n",
       "      <td>14.1197</td>\n",
       "      <td>251.0</td>\n",
       "      <td>15.8263</td>\n",
       "      <td>1015.13</td>\n",
       "      <td>True</td>\n",
       "      <td>False</td>\n",
       "      <td>19</td>\n",
       "      <td>2006-04-01</td>\n",
       "    </tr>\n",
       "    <tr>\n",
       "      <th>1</th>\n",
       "      <td>2006-04-01 01:00:00+00:00</td>\n",
       "      <td>Partly Cloudy</td>\n",
       "      <td>7.227778</td>\n",
       "      <td>0.86</td>\n",
       "      <td>14.2646</td>\n",
       "      <td>259.0</td>\n",
       "      <td>15.8263</td>\n",
       "      <td>1015.63</td>\n",
       "      <td>True</td>\n",
       "      <td>False</td>\n",
       "      <td>19</td>\n",
       "      <td>2006-04-01</td>\n",
       "    </tr>\n",
       "    <tr>\n",
       "      <th>2</th>\n",
       "      <td>2006-04-01 02:00:00+00:00</td>\n",
       "      <td>Mostly Cloudy</td>\n",
       "      <td>9.377778</td>\n",
       "      <td>0.89</td>\n",
       "      <td>3.9284</td>\n",
       "      <td>204.0</td>\n",
       "      <td>14.9569</td>\n",
       "      <td>1015.94</td>\n",
       "      <td>True</td>\n",
       "      <td>False</td>\n",
       "      <td>17</td>\n",
       "      <td>2006-04-01</td>\n",
       "    </tr>\n",
       "    <tr>\n",
       "      <th>3</th>\n",
       "      <td>2006-04-01 03:00:00+00:00</td>\n",
       "      <td>Partly Cloudy</td>\n",
       "      <td>5.944444</td>\n",
       "      <td>0.83</td>\n",
       "      <td>14.1036</td>\n",
       "      <td>269.0</td>\n",
       "      <td>15.8263</td>\n",
       "      <td>1016.41</td>\n",
       "      <td>True</td>\n",
       "      <td>False</td>\n",
       "      <td>19</td>\n",
       "      <td>2006-04-01</td>\n",
       "    </tr>\n",
       "    <tr>\n",
       "      <th>4</th>\n",
       "      <td>2006-04-01 04:00:00+00:00</td>\n",
       "      <td>Mostly Cloudy</td>\n",
       "      <td>6.977778</td>\n",
       "      <td>0.83</td>\n",
       "      <td>11.0446</td>\n",
       "      <td>259.0</td>\n",
       "      <td>15.8263</td>\n",
       "      <td>1016.51</td>\n",
       "      <td>True</td>\n",
       "      <td>False</td>\n",
       "      <td>17</td>\n",
       "      <td>2006-04-01</td>\n",
       "    </tr>\n",
       "  </tbody>\n",
       "</table>\n",
       "</div>"
      ],
      "text/plain": [
       "             Formatted Date        Summary  Apparent Temperature (C)  \\\n",
       "0 2006-04-01 00:00:00+00:00  Partly Cloudy                  7.388889   \n",
       "1 2006-04-01 01:00:00+00:00  Partly Cloudy                  7.227778   \n",
       "2 2006-04-01 02:00:00+00:00  Mostly Cloudy                  9.377778   \n",
       "3 2006-04-01 03:00:00+00:00  Partly Cloudy                  5.944444   \n",
       "4 2006-04-01 04:00:00+00:00  Mostly Cloudy                  6.977778   \n",
       "\n",
       "   Humidity  Wind Speed (km/h)  Wind Bearing (degrees)  Visibility (km)  \\\n",
       "0      0.89            14.1197                   251.0          15.8263   \n",
       "1      0.86            14.2646                   259.0          15.8263   \n",
       "2      0.89             3.9284                   204.0          14.9569   \n",
       "3      0.83            14.1036                   269.0          15.8263   \n",
       "4      0.83            11.0446                   259.0          15.8263   \n",
       "\n",
       "   Pressure (millibars)  Precip Type_rain  Precip Type_snow  Summary_encode  \\\n",
       "0               1015.13              True             False              19   \n",
       "1               1015.63              True             False              19   \n",
       "2               1015.94              True             False              17   \n",
       "3               1016.41              True             False              19   \n",
       "4               1016.51              True             False              17   \n",
       "\n",
       "          Day  \n",
       "0  2006-04-01  \n",
       "1  2006-04-01  \n",
       "2  2006-04-01  \n",
       "3  2006-04-01  \n",
       "4  2006-04-01  "
      ]
     },
     "execution_count": 17,
     "metadata": {},
     "output_type": "execute_result"
    }
   ],
   "source": [
    "df.head()"
   ]
  },
  {
   "cell_type": "markdown",
   "metadata": {},
   "source": [
    "* Create a dataframe X_day which is composed with the mean of data by day (Object columns are dropped)"
   ]
  },
  {
   "cell_type": "code",
   "execution_count": 18,
   "metadata": {},
   "outputs": [
    {
     "data": {
      "text/html": [
       "<div>\n",
       "<style scoped>\n",
       "    .dataframe tbody tr th:only-of-type {\n",
       "        vertical-align: middle;\n",
       "    }\n",
       "\n",
       "    .dataframe tbody tr th {\n",
       "        vertical-align: top;\n",
       "    }\n",
       "\n",
       "    .dataframe thead th {\n",
       "        text-align: right;\n",
       "    }\n",
       "</style>\n",
       "<table border=\"1\" class=\"dataframe\">\n",
       "  <thead>\n",
       "    <tr style=\"text-align: right;\">\n",
       "      <th></th>\n",
       "      <th>Apparent Temperature (C)</th>\n",
       "      <th>Humidity</th>\n",
       "      <th>Wind Speed (km/h)</th>\n",
       "      <th>Wind Bearing (degrees)</th>\n",
       "      <th>Visibility (km)</th>\n",
       "      <th>Pressure (millibars)</th>\n",
       "      <th>Precip Type_rain</th>\n",
       "      <th>Precip Type_snow</th>\n",
       "    </tr>\n",
       "    <tr>\n",
       "      <th>Day</th>\n",
       "      <th></th>\n",
       "      <th></th>\n",
       "      <th></th>\n",
       "      <th></th>\n",
       "      <th></th>\n",
       "      <th></th>\n",
       "      <th></th>\n",
       "      <th></th>\n",
       "    </tr>\n",
       "  </thead>\n",
       "  <tbody>\n",
       "    <tr>\n",
       "      <th>2006-01-01</th>\n",
       "      <td>-0.447222</td>\n",
       "      <td>0.818333</td>\n",
       "      <td>21.372750</td>\n",
       "      <td>142.041667</td>\n",
       "      <td>11.112354</td>\n",
       "      <td>1012.279167</td>\n",
       "      <td>1.0</td>\n",
       "      <td>0.0</td>\n",
       "    </tr>\n",
       "    <tr>\n",
       "      <th>2006-01-02</th>\n",
       "      <td>2.042593</td>\n",
       "      <td>0.844583</td>\n",
       "      <td>17.551683</td>\n",
       "      <td>161.958333</td>\n",
       "      <td>8.956967</td>\n",
       "      <td>1010.131667</td>\n",
       "      <td>1.0</td>\n",
       "      <td>0.0</td>\n",
       "    </tr>\n",
       "    <tr>\n",
       "      <th>2006-01-03</th>\n",
       "      <td>0.223843</td>\n",
       "      <td>0.898333</td>\n",
       "      <td>8.417617</td>\n",
       "      <td>248.541667</td>\n",
       "      <td>9.011975</td>\n",
       "      <td>1020.805000</td>\n",
       "      <td>1.0</td>\n",
       "      <td>0.0</td>\n",
       "    </tr>\n",
       "    <tr>\n",
       "      <th>2006-01-04</th>\n",
       "      <td>-0.457407</td>\n",
       "      <td>0.905417</td>\n",
       "      <td>11.579925</td>\n",
       "      <td>46.916667</td>\n",
       "      <td>8.339129</td>\n",
       "      <td>981.826667</td>\n",
       "      <td>1.0</td>\n",
       "      <td>0.0</td>\n",
       "    </tr>\n",
       "    <tr>\n",
       "      <th>2006-01-05</th>\n",
       "      <td>0.256481</td>\n",
       "      <td>0.948333</td>\n",
       "      <td>9.515100</td>\n",
       "      <td>140.375000</td>\n",
       "      <td>4.628750</td>\n",
       "      <td>935.988333</td>\n",
       "      <td>1.0</td>\n",
       "      <td>0.0</td>\n",
       "    </tr>\n",
       "  </tbody>\n",
       "</table>\n",
       "</div>"
      ],
      "text/plain": [
       "            Apparent Temperature (C)  Humidity  Wind Speed (km/h)  \\\n",
       "Day                                                                 \n",
       "2006-01-01                 -0.447222  0.818333          21.372750   \n",
       "2006-01-02                  2.042593  0.844583          17.551683   \n",
       "2006-01-03                  0.223843  0.898333           8.417617   \n",
       "2006-01-04                 -0.457407  0.905417          11.579925   \n",
       "2006-01-05                  0.256481  0.948333           9.515100   \n",
       "\n",
       "            Wind Bearing (degrees)  Visibility (km)  Pressure (millibars)  \\\n",
       "Day                                                                         \n",
       "2006-01-01              142.041667        11.112354           1012.279167   \n",
       "2006-01-02              161.958333         8.956967           1010.131667   \n",
       "2006-01-03              248.541667         9.011975           1020.805000   \n",
       "2006-01-04               46.916667         8.339129            981.826667   \n",
       "2006-01-05              140.375000         4.628750            935.988333   \n",
       "\n",
       "            Precip Type_rain  Precip Type_snow  \n",
       "Day                                             \n",
       "2006-01-01               1.0               0.0  \n",
       "2006-01-02               1.0               0.0  \n",
       "2006-01-03               1.0               0.0  \n",
       "2006-01-04               1.0               0.0  \n",
       "2006-01-05               1.0               0.0  "
      ]
     },
     "execution_count": 18,
     "metadata": {},
     "output_type": "execute_result"
    }
   ],
   "source": [
    "X_day = df.drop(['Formatted Date', 'Summary', 'Summary_encode'], axis=1)\n",
    "X_day = X_day.groupby('Day').mean()\n",
    "X_day.head()"
   ]
  },
  {
   "cell_type": "markdown",
   "metadata": {},
   "source": [
    "* For Summary_encode (which is renamed y), the most represented value is retained"
   ]
  },
  {
   "cell_type": "code",
   "execution_count": 19,
   "metadata": {},
   "outputs": [],
   "source": [
    "# Group by Day and keep the most represented value\n",
    "grouped_by_day = df[['Day', 'Summary_encode']].groupby('Day')['Summary_encode']\n",
    "y = grouped_by_day.apply(lambda x: x.mode().iloc[0])\n",
    "y = y.reset_index(name='y')"
   ]
  },
  {
   "cell_type": "code",
   "execution_count": 20,
   "metadata": {},
   "outputs": [
    {
     "data": {
      "text/plain": [
       "Index(['Apparent Temperature (C)', 'Humidity', 'Wind Speed (km/h)',\n",
       "       'Wind Bearing (degrees)', 'Visibility (km)', 'Pressure (millibars)',\n",
       "       'Precip Type_rain', 'Precip Type_snow'],\n",
       "      dtype='object')"
      ]
     },
     "execution_count": 20,
     "metadata": {},
     "output_type": "execute_result"
    }
   ],
   "source": [
    "X_day.columns"
   ]
  },
  {
   "cell_type": "markdown",
   "metadata": {},
   "source": [
    "### Step 5 : Set the dynamic Bayesian Model"
   ]
  },
  {
   "cell_type": "markdown",
   "metadata": {},
   "source": []
  },
  {
   "cell_type": "code",
   "execution_count": 65,
   "metadata": {},
   "outputs": [],
   "source": [
    "#IMPORTS\n",
    "from pgmpy.models import DynamicBayesianNetwork\n",
    "from pgmpy.factors.discrete import TabularCPD\n",
    "from pgmpy.inference import DBNInference"
   ]
  },
  {
   "cell_type": "markdown",
   "metadata": {},
   "source": [
    "* Create and add nodes to the model"
   ]
  },
  {
   "cell_type": "code",
   "execution_count": 47,
   "metadata": {},
   "outputs": [
    {
     "name": "stdout",
     "output_type": "stream",
     "text": [
      "[<DynamicNode(y, 0) at 0x2570ba35e90>, <DynamicNode(Humidity, 0) at 0x2570bba1750>]\n"
     ]
    }
   ],
   "source": [
    "# Create the dynamic Bayesian Network\n",
    "DBN_model = DynamicBayesianNetwork()\n",
    "\n",
    "# Add nodes\n",
    "DBN_model.add_nodes_from(['y', 'Humidity'])\n",
    "\n",
    "print(DBN_model.nodes())"
   ]
  },
  {
   "cell_type": "markdown",
   "metadata": {},
   "source": [
    "* Add edges to the model"
   ]
  },
  {
   "cell_type": "code",
   "execution_count": 49,
   "metadata": {},
   "outputs": [
    {
     "name": "stdout",
     "output_type": "stream",
     "text": [
      "[(<DynamicNode(y, 0) at 0x2570ba35e90>, <DynamicNode(y, 1) at 0x2570bc23410>), (<DynamicNode(Humidity, 0) at 0x2570bba1750>, <DynamicNode(y, 0) at 0x2570bba0250>), (<DynamicNode(Humidity, 0) at 0x2570bba1750>, <DynamicNode(Humidity, 1) at 0x2570bc23f50>), (<DynamicNode(Humidity, 1) at 0x2570bba1810>, <DynamicNode(y, 1) at 0x2570bba0290>)]\n",
      "\n"
     ]
    }
   ],
   "source": [
    "# Add edges\n",
    "DBN_model.add_edges_from([(('Humidity',0), ('y',0)),\n",
    "                         (('y',0), ('y',1)),\n",
    "                         (('Humidity',0), ('Humidity',1))])\n",
    "\n",
    "print(DBN_model.edges())"
   ]
  },
  {
   "cell_type": "markdown",
   "metadata": {},
   "source": [
    "* Add probabilities"
   ]
  },
  {
   "cell_type": "code",
   "execution_count": 61,
   "metadata": {},
   "outputs": [
    {
     "name": "stderr",
     "output_type": "stream",
     "text": [
      "C:\\Users\\33695\\AppData\\Local\\Temp\\ipykernel_46564\\4197998115.py:1: DeprecationWarning: `product` is deprecated as of NumPy 1.25.0, and will be removed in NumPy 2.0. Please use `prod` instead.\n",
      "  y_cpd = TabularCPD(('y', 0), 2, [[0.1, 0.8],\n",
      "C:\\Users\\33695\\AppData\\Local\\Temp\\ipykernel_46564\\4197998115.py:6: DeprecationWarning: `product` is deprecated as of NumPy 1.25.0, and will be removed in NumPy 2.0. Please use `prod` instead.\n",
      "  Humidity_cpd = TabularCPD(('Humidity', 1), 2, [[0.5, 0.5],\n",
      "C:\\Users\\33695\\AppData\\Local\\Temp\\ipykernel_46564\\4197998115.py:11: DeprecationWarning: `product` is deprecated as of NumPy 1.25.0, and will be removed in NumPy 2.0. Please use `prod` instead.\n",
      "  transition_cpd = TabularCPD(('y', 1), 2, [[0.25, 0.9, 0.1, 0.25],\n"
     ]
    }
   ],
   "source": [
    "y_cpd = TabularCPD(('y', 0), 2, [[0.1, 0.8], \n",
    "                                       [0.9, 0.2]], \n",
    "                    evidence=[('Humidity', 0)], \n",
    "                    evidence_card=[2])\n",
    "\n",
    "Humidity_cpd = TabularCPD(('Humidity', 1), 2, [[0.5, 0.5], \n",
    "                                                [0.5, 0.5]], \n",
    "                            evidence=[('Humidity', 0)], \n",
    "                            evidence_card=[2])\n",
    "\n",
    "transition_cpd = TabularCPD(('y', 1), 2, [[0.25, 0.9, 0.1, 0.25], \n",
    "                                            [0.75, 0.1, 0.9, 0.75]], \n",
    "                                            evidence=[('y', 0), ('Humidity', 1)], \n",
    "                                            evidence_card=[2, 2])"
   ]
  },
  {
   "cell_type": "markdown",
   "metadata": {},
   "source": [
    "* add_cpds to the model"
   ]
  },
  {
   "cell_type": "code",
   "execution_count": 64,
   "metadata": {},
   "outputs": [
    {
     "name": "stderr",
     "output_type": "stream",
     "text": [
      "C:\\Users\\33695\\AppData\\Local\\Temp\\ipykernel_46564\\273119128.py:3: DeprecationWarning: `product` is deprecated as of NumPy 1.25.0, and will be removed in NumPy 2.0. Please use `prod` instead.\n",
      "  DBN_model.check_model()\n"
     ]
    },
    {
     "data": {
      "text/plain": [
       "True"
      ]
     },
     "execution_count": 64,
     "metadata": {},
     "output_type": "execute_result"
    }
   ],
   "source": [
    "DBN_model.add_cpds(y_cpd, Humidity_cpd, transition_cpd)\n",
    "DBN_model.initialize_initial_state()\n",
    "DBN_model.check_model()"
   ]
  },
  {
   "cell_type": "markdown",
   "metadata": {},
   "source": [
    "* The model is valid"
   ]
  },
  {
   "cell_type": "code",
   "execution_count": 66,
   "metadata": {},
   "outputs": [],
   "source": [
    "map = {0: 'Sunny', 1: 'Rainy'}\n",
    "dbn_inf = DBNInference(DBN_model)\n",
    "result = dbn_inf.forward_inference([('y',1)], {('Humidity', 1): 0, ('y', 0):0})"
   ]
  },
  {
   "cell_type": "code",
   "execution_count": 68,
   "metadata": {},
   "outputs": [],
   "source": [
    "arr = result[('y', 1)].values"
   ]
  },
  {
   "cell_type": "code",
   "execution_count": 69,
   "metadata": {},
   "outputs": [
    {
     "data": {
      "text/plain": [
       "array([0.25, 0.75])"
      ]
     },
     "execution_count": 69,
     "metadata": {},
     "output_type": "execute_result"
    }
   ],
   "source": [
    "arr"
   ]
  },
  {
   "cell_type": "code",
   "execution_count": 71,
   "metadata": {},
   "outputs": [
    {
     "name": "stdout",
     "output_type": "stream",
     "text": [
      "Prediction (y(1) : Yes, Weather(0): Sunny): Rainy (75.0 %)\n"
     ]
    }
   ],
   "source": [
    "import numpy as np \n",
    "\n",
    "print('Prediction (y(1) : Yes, Weather(0): Sunny): {0} ({1} %)'.format(map[np.argmax(arr)], np.max(arr) * 100))\n"
   ]
  }
 ],
 "metadata": {
  "kernelspec": {
   "display_name": "Python 3",
   "language": "python",
   "name": "python3"
  },
  "language_info": {
   "codemirror_mode": {
    "name": "ipython",
    "version": 3
   },
   "file_extension": ".py",
   "mimetype": "text/x-python",
   "name": "python",
   "nbconvert_exporter": "python",
   "pygments_lexer": "ipython3",
   "version": "3.11.6"
  }
 },
 "nbformat": 4,
 "nbformat_minor": 2
}
